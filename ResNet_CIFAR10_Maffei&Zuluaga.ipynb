{
  "cells": [
    {
      "cell_type": "markdown",
      "id": "9a54b263",
      "metadata": {
        "id": "9a54b263"
      },
      "source": [
        "# Guidelines\n",
        "\n",
        "This notebook is a template of what could be explored. You can follow it or explore and experiment additional things.\n",
        "\n",
        "Use the notebook to add your comments, figures, .... You can remove and reorganize it as you wish. The goal is for you to make a nice report. The important points are to: \n",
        "- understand what you will write\n",
        "- explain the experimental results\n",
        "- the code should be clean and well documented\n",
        "- when copy many times the same code, take the time to create a function instead. "
      ]
    },
    {
      "cell_type": "markdown",
      "id": "cbfd7d2c",
      "metadata": {
        "id": "cbfd7d2c"
      },
      "source": [
        "# ResNet (simplified) on CIFAR10 \n",
        "\n",
        "ResNet is a famous architecture and still state of the art for image classification and object detection. The \n",
        "[original ResNet paper](https://arxiv.org/abs/1512.03385) describes the principles and you will find below an overview. \n",
        "\n",
        "The dataset is [CIFAR-10](https://www.cs.toronto.edu/~kriz/cifar.html). This dataset gathers images in colors. To plot the images look at the end of the second lab session on convolution (the notebook). CIFAR10 image classification dataset consists of 50k training  images and 10k testing images in 10 classes. The network inputs are $32\\times 32$ images, with the per-pixel mean subtracted. \n",
        "\n",
        "## ResNet models \n",
        "\n",
        "ResNet relies on what we call ResNet blocks. A ResNet block is typically a convolutional block with a residual connection. A major obstacle in training deeper neural networks is the well-known  vanishing gradien problem: as  layers are added to the network the \n",
        "multiplying gradients during the backward pass yields very small gradients for the first layers (more or less like noise).\n",
        "\n",
        "The ResNet architecture is an attempt to tackle this strong issue. Let start by the definition of a Residual block: \n",
        "\n",
        "<img align=\"center\" src=\"https://drive.google.com/uc?id=1c4QvJN4H_GdGWNM-vW46j_JIG64CD_mD\" />"
      ]
    },
    {
      "cell_type": "markdown",
      "id": "e5febffe",
      "metadata": {
        "id": "e5febffe"
      },
      "source": [
        "In the previous figure, the input is $X$ and the output is $\\mathcal{F}(X)+X$ followed by a Relu. $\\mathcal{F}$ is a convolutional block. \n",
        "The residual block have some nice properties for the gradient backpropagation (see the course). A cascade of these residual blocks is used \n",
        "to create very deep CNN models with more than 100 \n",
        "layers as presented in the original ResNet paper. \n",
        "\n",
        "The authors of the original paper train and test six different ResNet architectures on CIFAR10 and \n",
        "compare the results. \n",
        "The tested depth are $20,32,44,56,110$. Here are the results: \n",
        "\n",
        "\n",
        "| MODEL | %error   | \n",
        "|------|------|\n",
        "|   ResNet-20  | 8.75|\n",
        "|   ResNet-32  |7.51 |\n",
        "|   ResNet-44  |7.17|\n",
        "|   ResNet-56  |6.97 |\n",
        "|   ResNet-110  | 6.43|\n",
        "\n"
      ]
    },
    {
      "cell_type": "markdown",
      "id": "aa3a2f69",
      "metadata": {
        "id": "aa3a2f69"
      },
      "source": [
        "# A simplified ResNet model\n",
        "\n",
        "In this lab, your goal is to implement a ResNet like architecture (we will simplify a little the architecture). \n",
        "\n",
        "## The input parts \n",
        "The first layers are quite regular: \n",
        "- The images are fed to a convolutional network (input_channels = 3, output_channels=16, kernel_size=3, stride=1, padding=1, bias=False) followed by a relu activation. \n",
        "- Then we will apply a batch normalization. \n",
        "\n",
        "## A cascade of residual blocks\n",
        "To define a residual block, let us first define $\\mathcal{F}$: \n",
        "- A first convolution (in_channels = out_channels = 16, kernel_size=3, stride=1, padding=1, bias=False) followed by a Relu. \n",
        "- And Batch Norm. \n",
        "- Then we add another convolution layer (with the same hyperparameters) followed by a Relu and another BatchNorm. \n",
        "\n",
        "The output of the residual block includes the residual connection : \n",
        "$out = relu(x + \\mathcal{F}(x))$$ \n",
        "\n",
        "## Classification\n",
        "At the end of this cascade, we can add a final Linear layer to make the classification. \n",
        "\n",
        "## Implementation \n",
        "A good idea is to first define a class *BasicBlock* as a pytorch *Module*. This block implements $\\mathcal{F}$ as described before. \n",
        "Then you can implement a class ResNet that includes the different parts previouly described: \n",
        "- input parts\n",
        "- a list of *BasicBlock* (the number **n** of these blocks should be a parameter of the constructor)\n",
        "- the output classifier. \n",
        "\n",
        "# TODO \n",
        "Implement a ResNet classifier on CIFAR10. \n",
        "\n",
        "- Starts with $n=2$ residual blocks\n",
        "- Find an adapted learning rate by testing different values. \n",
        "- Then Increase $n$ to 5, 10 and 20. \n",
        "- For high $n$, run the code on Colab using GPUs. For that purpose all the Tensors used during training and valid, along with the models should be transfered on GPU (see the course). \n",
        "\n"
      ]
    },
    {
      "cell_type": "code",
      "source": [
        "#usefull imports\n",
        "# math, numpy and plot\n",
        "import numpy as np\n",
        "import math\n",
        "import matplotlib\n",
        "import matplotlib.pyplot as plt \n",
        "# torch \n",
        "import torch as th\n",
        "import torch.autograd as autograd\n",
        "import torch.nn.functional as F\n",
        "import torch.nn as nn\n",
        "from torchvision import datasets\n",
        "import torchvision.transforms as transforms\n",
        "from torch.utils.data.sampler import SubsetRandomSampler\n",
        "# gzip \n",
        "import gzip\n",
        "import pickle\n"
      ],
      "metadata": {
        "id": "JrrwRyZKlMvv"
      },
      "id": "JrrwRyZKlMvv",
      "execution_count": null,
      "outputs": []
    },
    {
      "cell_type": "code",
      "source": [
        "train_on_gpu = th.cuda.is_available()\n",
        "if not train_on_gpu:\n",
        "  print('CUDA is not available.')\n",
        "else:\n",
        "  print('CUDA is available')"
      ],
      "metadata": {
        "colab": {
          "base_uri": "https://localhost:8080/"
        },
        "id": "KPpWe7vf8Fyq",
        "outputId": "6570074e-50e5-451f-dcd5-5d5019f7b7e5"
      },
      "id": "KPpWe7vf8Fyq",
      "execution_count": null,
      "outputs": [
        {
          "output_type": "stream",
          "name": "stdout",
          "text": [
            "CUDA is available\n"
          ]
        }
      ]
    },
    {
      "cell_type": "markdown",
      "source": [
        "##Loading Data"
      ],
      "metadata": {
        "id": "nSDIR0Vj9SGm"
      },
      "id": "nSDIR0Vj9SGm"
    },
    {
      "cell_type": "code",
      "source": [
        "import torchvision\n",
        "import torchvision.transforms as transforms\n",
        "\n",
        "transform = transforms.Compose(\n",
        "    [transforms.ToTensor(),     \n",
        "     transforms.Normalize((0.5, 0.5, 0.5), (0.5, 0.5, 0.5))])\n",
        "\n",
        "batchs = 200\n",
        "\n",
        "trainset = torchvision.datasets.CIFAR10(root='./data', train=True,\n",
        "                                        download=True, transform=transform)\n",
        "\n",
        "testset = torchvision.datasets.CIFAR10(root='./data', train=False,\n",
        "                                       download=True, transform=transform)\n",
        "\n",
        "trainloader = th.utils.data.DataLoader(trainset, batch_size=batchs,\n",
        "                                      shuffle=True, num_workers=2, pin_memory=True)\n",
        "testloader = th.utils.data.DataLoader(testset, batch_size=batchs,\n",
        "                                      shuffle=True, num_workers=2, pin_memory=True)\n",
        "\n",
        "classes = ('plane', 'car', 'bird', 'cat',\n",
        "           'deer', 'dog', 'frog', 'horse', 'ship', 'truck')\n",
        "\n"
      ],
      "metadata": {
        "colab": {
          "base_uri": "https://localhost:8080/"
        },
        "id": "bZQVgBTtoEZK",
        "outputId": "b4c46941-dabf-4229-e4f3-811be47ed7f4"
      },
      "id": "bZQVgBTtoEZK",
      "execution_count": null,
      "outputs": [
        {
          "output_type": "stream",
          "name": "stdout",
          "text": [
            "Files already downloaded and verified\n",
            "Files already downloaded and verified\n"
          ]
        }
      ]
    },
    {
      "cell_type": "code",
      "source": [
        "#Trying to see a random image and looking for the shape of the image\n",
        "img, label = trainset[7000]\n",
        "img, label\n",
        "plt.imshow(img.permute(1, 2, 0)) #We have to use permute to change the order of the axes from C × H × W to H × W × C to match what Matplotlib expects.\n",
        "plt.show()\n",
        "img.shape, img.dtype\n",
        "\n",
        "#We can notice that we have a 32 x 32 x 3 image, since we are in RGB and we have 3 channels "
      ],
      "metadata": {
        "colab": {
          "base_uri": "https://localhost:8080/",
          "height": 321
        },
        "id": "oUpj-CshnDr5",
        "outputId": "32c84bd8-429c-4ac2-8ba8-84d0ad5f0cea"
      },
      "id": "oUpj-CshnDr5",
      "execution_count": null,
      "outputs": [
        {
          "output_type": "stream",
          "name": "stderr",
          "text": [
            "Clipping input data to the valid range for imshow with RGB data ([0..1] for floats or [0..255] for integers).\n"
          ]
        },
        {
          "output_type": "display_data",
          "data": {
            "text/plain": [
              "<Figure size 432x288 with 1 Axes>"
            ],
            "image/png": "[encoded data removed]"
          },
          "metadata": {
            "needs_background": "light"
          }
        },
        {
          "output_type": "execute_result",
          "data": {
            "text/plain": [
              "(torch.Size([3, 32, 32]), torch.float32)"
            ]
          },
          "metadata": {},
          "execution_count": 4
        }
      ]
    },
    {
      "cell_type": "markdown",
      "source": [
        "# One convolution layer\n",
        "As a first step, we are going to run a model with only one convolutional layer and a maxpool."
      ],
      "metadata": {
        "id": "_RLNaTFn_6dB"
      },
      "id": "_RLNaTFn_6dB"
    },
    {
      "cell_type": "code",
      "execution_count": null,
      "id": "af40db7f",
      "metadata": {
        "id": "af40db7f"
      },
      "outputs": [],
      "source": [
        "#Basic class for a simple Neural Network with only one convolution layer\n",
        "class CNN(nn.Module):\n",
        "    def __init__(self, kernel_size = 3, padding= 1, out_channels = 16):\n",
        "        super(CNN, self).__init__()\n",
        "        self.layer1 = nn.Conv2d(in_channels=3, out_channels=out_channels, \n",
        "                              kernel_size=kernel_size, padding=padding)\n",
        "        self.layer2 = nn.MaxPool2d(kernel_size=2, stride=2)\n",
        "        self.layer3 = nn.Linear(16*16*out_channels, 10)\n",
        "        self.layer4 = nn.LogSoftmax(dim=1)\n",
        "\n",
        "        \n",
        "    def forward(self, x):\n",
        "        out  = self.layer1(x)\n",
        "        out =  F.relu(out)\n",
        "        out = self.layer2(out)\n",
        "        out = out.view(x.size(0), -1) \n",
        "        out = self.layer3(out)\n",
        "        out = self.layer4(out)\n",
        "        return out\n"
      ]
    },
    {
      "cell_type": "code",
      "source": [
        "def train(model, optimizer, loss_fn, trainloader, valloader, epochs=30, verbose=False):\n",
        "    # The verbose allows you to skip printed information per epoch.\n",
        "    # The function will only print the best accuracy on the validation\n",
        "    # and plot the learning curves. \n",
        "    \n",
        "    loss_train = []\n",
        "    loss_val = []\n",
        "    accuracy = []\n",
        "\n",
        "    for epoch in range(epochs):\n",
        "      #Train\n",
        "      loss_train_epoch = 0\n",
        "      loss_val_epoch = 0\n",
        "      accuracy_epoch = 0\n",
        "\n",
        "      model.train()\n",
        "      for i, (images, labels) in enumerate(trainloader):\n",
        "        images, labels = images.cuda(), labels.cuda()\n",
        "\n",
        "        logsoftmax = model(images)\n",
        "        loss_t = loss_fn(logsoftmax, labels)\n",
        "\n",
        "        #Here we sum the error of each batch and then use the total error of the epoch\n",
        "        loss_train_epoch += loss_t.item()/len(images)\n",
        "        \n",
        "        optimizer.zero_grad() #Set all gradients to zero (not cumulative)\n",
        "        loss_t.backward() #Propagate the error (back propagation)\n",
        "        optimizer.step() #Update the Ws\n",
        "\n",
        "        th.cuda.empty_cache()\n",
        "\n",
        "      loss_train.append(loss_train_epoch)\n",
        "\n",
        "      #Validation\n",
        "      model.eval()\n",
        "      with th.no_grad():\n",
        "        for i, (images, label) in enumerate(valloader):\n",
        "          images, label = images.cuda(), label.cuda()\n",
        "\n",
        "          logsoftmax = model(images)\n",
        "          loss_v = loss_fn(logsoftmax, label) \n",
        "          loss_val_epoch += loss_v.item()     \n",
        "\n",
        "          #Calculating the accuracy of the model for each epoch\n",
        "          #It returns all elements that p = 1 and their index\n",
        "          prob_predict, class_predict = logsoftmax.topk(1)\n",
        "          acc = (class_predict.T == label).sum().float()\n",
        "          accuracy_epoch += acc\n",
        "\n",
        "      accuracy_epoch = accuracy_epoch/100\n",
        "      loss_val.append(loss_val_epoch)\n",
        "      accuracy.append(accuracy_epoch)\n",
        "      \n",
        "      # if verbose:\n",
        "      print(f'Epoch: {epoch}\\tTrain loss: {loss_train_epoch}\\tAccuracy validation: {accuracy_epoch}')\n",
        "\n",
        "    return loss_train, loss_val, accuracy, logsoftmax"
      ],
      "metadata": {
        "id": "rlzxzVVT09I8"
      },
      "id": "rlzxzVVT09I8",
      "execution_count": null,
      "outputs": []
    },
    {
      "cell_type": "code",
      "source": [
        "loss = nn.NLLLoss()\n",
        "model = CNN()\n",
        "model = model.cuda()\n",
        "optimizer=th.optim.Adam(model.parameters(),lr=0.0001)"
      ],
      "metadata": {
        "id": "RE1w6O3x3VRD"
      },
      "id": "RE1w6O3x3VRD",
      "execution_count": null,
      "outputs": []
    },
    {
      "cell_type": "code",
      "source": [
        "loss_train_sigmoid, loss_val_sigmoid, accuracy_sigmoid, softmax = train(model, optimizer, loss, trainloader, testloader, epochs = 10)"
      ],
      "metadata": {
        "colab": {
          "base_uri": "https://localhost:8080/"
        },
        "id": "XB7M4aHS05J1",
        "outputId": "70948706-b89e-49aa-ee78-ebefb3266418"
      },
      "id": "XB7M4aHS05J1",
      "execution_count": null,
      "outputs": [
        {
          "output_type": "stream",
          "name": "stdout",
          "text": [
            "Epoch: 0\tTrain loss: 1.9622927492856983\tAccuracy validation: 53.02000045776367\n",
            "Epoch: 1\tTrain loss: 1.5943379515409477\tAccuracy validation: 55.939998626708984\n",
            "Epoch: 2\tTrain loss: 1.4874830719828602\tAccuracy validation: 58.5099983215332\n",
            "Epoch: 3\tTrain loss: 1.4101204803586014\tAccuracy validation: 58.25\n",
            "Epoch: 4\tTrain loss: 1.3484239324927334\tAccuracy validation: 61.209999084472656\n",
            "Epoch: 5\tTrain loss: 1.3080057013034823\tAccuracy validation: 61.57999801635742\n",
            "Epoch: 6\tTrain loss: 1.2729919382929802\tAccuracy validation: 62.25\n",
            "Epoch: 7\tTrain loss: 1.2408328059315685\tAccuracy validation: 62.8599967956543\n",
            "Epoch: 8\tTrain loss: 1.218797652423381\tAccuracy validation: 62.5\n",
            "Epoch: 9\tTrain loss: 1.1936714848876002\tAccuracy validation: 62.81999969482422\n"
          ]
        }
      ]
    },
    {
      "cell_type": "code",
      "source": [
        "print(max(accuracy_sigmoid), accuracy_sigmoid[-1])"
      ],
      "metadata": {
        "colab": {
          "base_uri": "https://localhost:8080/"
        },
        "id": "DUaPrqmo8vZG",
        "outputId": "7793f155-7206-446b-bbb6-aa0561d117c6"
      },
      "id": "DUaPrqmo8vZG",
      "execution_count": null,
      "outputs": [
        {
          "output_type": "stream",
          "name": "stdout",
          "text": [
            "tensor(62.8600, device='cuda:0') tensor(62.8200, device='cuda:0')\n"
          ]
        }
      ]
    },
    {
      "cell_type": "code",
      "source": [
        "plt.plot(np.arange(10), th.tensor(accuracy_sigmoid))\n",
        "plt.title('Evolution of the accuracy over epochs')\n",
        "plt.xlabel('Epoch')\n",
        "plt.ylabel('Accuracy')\n",
        "plt.show()"
      ],
      "metadata": {
        "colab": {
          "base_uri": "https://localhost:8080/",
          "height": 295
        },
        "id": "7dNQj8Dd75Fd",
        "outputId": "fc61dd43-f086-4f35-ae73-8ab31fdb041f"
      },
      "id": "7dNQj8Dd75Fd",
      "execution_count": null,
      "outputs": [
        {
          "output_type": "display_data",
          "data": {
            "text/plain": [
              "<Figure size 432x288 with 1 Axes>"
            ],
            "image/png": "[encoded data removed]"
          },
          "metadata": {
            "needs_background": "light"
          }
        }
      ]
    },
    {
      "cell_type": "code",
      "source": [
        "plt.plot(np.arange(10), loss_train_sigmoid)\n",
        "plt.title('Evolution of the loss over epochs')\n",
        "plt.xlabel('Epoch')\n",
        "plt.ylabel('Loss')\n",
        "plt.show()"
      ],
      "metadata": {
        "colab": {
          "base_uri": "https://localhost:8080/",
          "height": 295
        },
        "id": "fd_zWnun8x5D",
        "outputId": "59a5cfca-2f94-4ed3-e9b6-f145165466cc"
      },
      "id": "fd_zWnun8x5D",
      "execution_count": null,
      "outputs": [
        {
          "output_type": "display_data",
          "data": {
            "text/plain": [
              "<Figure size 432x288 with 1 Axes>"
            ],
            "image/png": "[encoded data removed]"
          },
          "metadata": {
            "needs_background": "light"
          }
        }
      ]
    },
    {
      "cell_type": "markdown",
      "source": [
        "# ResNET with two residual block\n",
        "Now we are implementing a ResNET with only two residual block"
      ],
      "metadata": {
        "id": "mSirbbsYBl4C"
      },
      "id": "mSirbbsYBl4C"
    },
    {
      "cell_type": "code",
      "source": [
        "#Basic class for a simple Neural Network with only one convolution layer\n",
        "\n",
        "class ResidualBlock(nn.Module):\n",
        "  def __init__(self, kernel_size = 3, padding = 1, out_channels = 16):\n",
        "    super(ResidualBlock, self).__init__()\n",
        "    self.block = nn.Sequential(\n",
        "        nn.Conv2d(in_channels = out_channels, out_channels=out_channels, \n",
        "                  kernel_size = kernel_size, padding = padding),\n",
        "        nn.ReLU(),\n",
        "        nn.BatchNorm2d(out_channels),\n",
        "\n",
        "        nn.Conv2d(in_channels = out_channels, out_channels=out_channels, \n",
        "                  kernel_size = kernel_size, padding = padding),\n",
        "        nn.ReLU(),\n",
        "        nn.BatchNorm2d(out_channels),\n",
        "    )\n",
        "\n",
        "class CNNResNet(nn.Module):\n",
        "    def __init__(self, kernel_size = 3, padding= 1, out_channels = 16, n_blocks = 2):\n",
        "        super(CNNResNet, self).__init__()\n",
        "\n",
        "        self.n_blocks = n_blocks\n",
        "\n",
        "        block_class = ResidualBlock()\n",
        "        basicblock = getattr(block_class, 'block')\n",
        "\n",
        "        self.convlayer1 = nn.Sequential(\n",
        "            nn.Conv2d(in_channels=3, out_channels=out_channels, \n",
        "                              kernel_size=kernel_size, padding=padding),\n",
        "            nn.ReLU(),\n",
        "            nn.BatchNorm2d(out_channels),\n",
        "\n",
        "            nn.Conv2d(in_channels = out_channels, out_channels=out_channels, \n",
        "                  kernel_size = kernel_size, padding = padding),\n",
        "            nn.ReLU(),\n",
        "            nn.BatchNorm2d(out_channels),\n",
        "        )\n",
        "\n",
        "        for i in range(2, self.n_blocks + 1):\n",
        "          setattr(self, f'convlayer{i}', basicblock)          \n",
        "        \n",
        "        self.linearlayer = nn.Linear(32*32*out_channels, 10)\n",
        "\n",
        "        \n",
        "    def forward(self, x):\n",
        "\n",
        "        #Creating a list of outputs that will be used for higher numbers of residual blocks\n",
        "        list_outputs = []\n",
        "        out_block1 = self.convlayer1(x)\n",
        "        list_outputs.append(out_block1)\n",
        "        out_block2 = self.convlayer2(out_block1) + out_block1\n",
        "        list_outputs.append(out_block2)     \n",
        "\n",
        "        #A list of all convlayers disponibles\n",
        "        list_name_layers = [attribute for attribute in dir(self) if 'convlayer' in attribute]\n",
        "        list_layers = [getattr(self, layer_name) for layer_name in list_name_layers]\n",
        "\n",
        "        for layer in list_layers[2:]:\n",
        "          #Since we are using a list of outputs, it's usefull to know that, in our case,\n",
        "          #we are going to use always the n-1 and n-2 as inputs for our next block\n",
        "          out_block = layer(list_outputs[-1]) + list_outputs[-2]\n",
        "          list_outputs.append(out_block)\n",
        "\n",
        "        #Here we get the last output to make a transform in the view and generate our probability\n",
        "        out = list_outputs[-1].view(list_outputs[-1].size(0), -1)\n",
        "\n",
        "        out = self.linearlayer(out)\n",
        "        out = F.log_softmax(out, dim=1)\n",
        "        return out\n",
        "\n"
      ],
      "metadata": {
        "id": "S4lpFSxr_FtT"
      },
      "id": "S4lpFSxr_FtT",
      "execution_count": null,
      "outputs": []
    },
    {
      "cell_type": "code",
      "source": [
        "loss = nn.NLLLoss()\n",
        "model = CNNResNet()\n",
        "model = model.cuda()\n",
        "optimizer=th.optim.Adam(model.parameters(),lr=0.00001)"
      ],
      "metadata": {
        "id": "Nl8nNBMVCn3b"
      },
      "id": "Nl8nNBMVCn3b",
      "execution_count": null,
      "outputs": []
    },
    {
      "cell_type": "code",
      "source": [
        "th.cuda.empty_cache()\n",
        "loss_train_sigmoid_conv2, loss_val_sigmoid_conv2, accuracy_sigmoid_conv2, softmax_conv2 = train(model, optimizer, loss, trainloader, testloader, epochs = 10, verbose=True)"
      ],
      "metadata": {
        "colab": {
          "base_uri": "https://localhost:8080/"
        },
        "id": "whWzjvuaDNhF",
        "outputId": "fa357e10-b966-4331-9607-3d66fcc609f6"
      },
      "id": "whWzjvuaDNhF",
      "execution_count": null,
      "outputs": [
        {
          "output_type": "stream",
          "name": "stdout",
          "text": [
            "Epoch: 0\tTrain loss: 2.443185084462166\tAccuracy validation: 37.779998779296875\n",
            "Epoch: 1\tTrain loss: 2.0571093696355813\tAccuracy validation: 43.0099983215332\n",
            "Epoch: 2\tTrain loss: 1.9012243402004239\tAccuracy validation: 45.849998474121094\n",
            "Epoch: 3\tTrain loss: 1.8033127212524422\tAccuracy validation: 47.73999786376953\n",
            "Epoch: 4\tTrain loss: 1.7306943327188484\tAccuracy validation: 48.78999710083008\n",
            "Epoch: 5\tTrain loss: 1.6736591631174074\tAccuracy validation: 50.62999725341797\n",
            "Epoch: 6\tTrain loss: 1.6263296204805366\tAccuracy validation: 51.2599983215332\n",
            "Epoch: 7\tTrain loss: 1.585592324733735\tAccuracy validation: 52.14999771118164\n",
            "Epoch: 8\tTrain loss: 1.5473414558172214\tAccuracy validation: 53.03999710083008\n",
            "Epoch: 9\tTrain loss: 1.5153054064512255\tAccuracy validation: 53.90999984741211\n"
          ]
        }
      ]
    },
    {
      "cell_type": "code",
      "source": [
        "print(max(accuracy_sigmoid_conv2), accuracy_sigmoid_conv2[-1])"
      ],
      "metadata": {
        "colab": {
          "base_uri": "https://localhost:8080/"
        },
        "id": "l-lMasv9DRrv",
        "outputId": "1e2e45d1-c489-448d-cb76-0ee9127a34df"
      },
      "id": "l-lMasv9DRrv",
      "execution_count": null,
      "outputs": [
        {
          "output_type": "stream",
          "name": "stdout",
          "text": [
            "tensor(53.9100, device='cuda:0') tensor(53.9100, device='cuda:0')\n"
          ]
        }
      ]
    },
    {
      "cell_type": "code",
      "source": [
        "plt.plot(np.arange(10), th.tensor(accuracy_sigmoid_conv2))\n",
        "plt.title('Evolution of the accuracy over epochs')\n",
        "plt.xlabel('Epoch')\n",
        "plt.ylabel('Accuracy')\n",
        "plt.show()"
      ],
      "metadata": {
        "colab": {
          "base_uri": "https://localhost:8080/",
          "height": 295
        },
        "id": "Vl2WCqcpVSVa",
        "outputId": "155c473c-0051-4e92-a1e5-351fc1494ce0"
      },
      "id": "Vl2WCqcpVSVa",
      "execution_count": null,
      "outputs": [
        {
          "output_type": "display_data",
          "data": {
            "text/plain": [
              "<Figure size 432x288 with 1 Axes>"
            ],
            "image/png": "[encoded data removed]"
          },
          "metadata": {
            "needs_background": "light"
          }
        }
      ]
    },
    {
      "cell_type": "code",
      "source": [
        "plt.plot(np.arange(10), loss_train_sigmoid_conv2)\n",
        "plt.title('Evolution of the loss over epochs')\n",
        "plt.xlabel('Epoch')\n",
        "plt.ylabel('Loss')\n",
        "plt.show()"
      ],
      "metadata": {
        "colab": {
          "base_uri": "https://localhost:8080/",
          "height": 295
        },
        "id": "0w0eSfd-Vi2d",
        "outputId": "99c15320-18de-4255-ec66-2ffe15528925"
      },
      "id": "0w0eSfd-Vi2d",
      "execution_count": null,
      "outputs": [
        {
          "output_type": "display_data",
          "data": {
            "text/plain": [
              "<Figure size 432x288 with 1 Axes>"
            ],
            "image/png": "[encoded data removed]"
          },
          "metadata": {
            "needs_background": "light"
          }
        }
      ]
    },
    {
      "cell_type": "markdown",
      "source": [
        "#N = 5\n",
        "Now we are going to try it with 5 residual blocks"
      ],
      "metadata": {
        "id": "-9DxGElbcvWJ"
      },
      "id": "-9DxGElbcvWJ"
    },
    {
      "cell_type": "code",
      "source": [
        "loss = nn.NLLLoss()\n",
        "model = CNNResNet(n_blocks = 5)\n",
        "model = model.cuda()\n",
        "optimizer=th.optim.Adam(model.parameters(),lr=0.0001)"
      ],
      "metadata": {
        "id": "mzn9zujfV6an"
      },
      "id": "mzn9zujfV6an",
      "execution_count": null,
      "outputs": []
    },
    {
      "cell_type": "code",
      "source": [
        "loss_train_sigmoid_conv5, loss_val_sigmoid_conv5, accuracy_sigmoid_conv5, softmax_conv5 = train(model, optimizer, loss, trainloader, testloader, epochs = 10, verbose=True)"
      ],
      "metadata": {
        "colab": {
          "base_uri": "https://localhost:8080/"
        },
        "id": "A5zDntKEf2nD",
        "outputId": "c240389b-d712-4d1b-9f87-4364de0f123e"
      },
      "id": "A5zDntKEf2nD",
      "execution_count": null,
      "outputs": [
        {
          "output_type": "stream",
          "name": "stdout",
          "text": [
            "Epoch: 0\tTrain loss: 2.1238449913263326\tAccuracy validation: 45.40999984741211\n",
            "Epoch: 1\tTrain loss: 1.5687611299753186\tAccuracy validation: 48.37999725341797\n",
            "Epoch: 2\tTrain loss: 1.3348743906617169\tAccuracy validation: 49.65999984741211\n",
            "Epoch: 3\tTrain loss: 1.1710156363248836\tAccuracy validation: 50.45000076293945\n",
            "Epoch: 4\tTrain loss: 1.0335891944170004\tAccuracy validation: 51.29999923706055\n",
            "Epoch: 5\tTrain loss: 0.9263173002004622\tAccuracy validation: 51.38999938964844\n",
            "Epoch: 6\tTrain loss: 0.8272987195849417\tAccuracy validation: 51.36000061035156\n",
            "Epoch: 7\tTrain loss: 0.7465879264473916\tAccuracy validation: 50.96999740600586\n",
            "Epoch: 8\tTrain loss: 0.6714053153991697\tAccuracy validation: 51.18000030517578\n",
            "Epoch: 9\tTrain loss: 0.6049738676846022\tAccuracy validation: 51.62999725341797\n"
          ]
        }
      ]
    },
    {
      "cell_type": "code",
      "source": [
        "print(max(accuracy_sigmoid_conv5), accuracy_sigmoid_conv5[-1])"
      ],
      "metadata": {
        "colab": {
          "base_uri": "https://localhost:8080/"
        },
        "id": "y1xEUjrvhR7c",
        "outputId": "c0976ca4-6a3b-4010-d071-54c9cb7461d6"
      },
      "id": "y1xEUjrvhR7c",
      "execution_count": null,
      "outputs": [
        {
          "output_type": "stream",
          "name": "stdout",
          "text": [
            "tensor(51.6300, device='cuda:0') tensor(51.6300, device='cuda:0')\n"
          ]
        }
      ]
    },
    {
      "cell_type": "code",
      "source": [
        "plt.plot(np.arange(10), th.tensor(accuracy_sigmoid_conv5))\n",
        "plt.title('Evolution of the accuracy over epochs')\n",
        "plt.xlabel('Epoch')\n",
        "plt.ylabel('Accuracy')\n",
        "plt.show()"
      ],
      "metadata": {
        "colab": {
          "base_uri": "https://localhost:8080/",
          "height": 295
        },
        "id": "rpo-JLYZ2DJU",
        "outputId": "821eb18a-2089-4488-e69f-ed8e29243b30"
      },
      "id": "rpo-JLYZ2DJU",
      "execution_count": null,
      "outputs": [
        {
          "output_type": "display_data",
          "data": {
            "text/plain": [
              "<Figure size 432x288 with 1 Axes>"
            ],
            "image/png": "[encoded data removed]"
          },
          "metadata": {
            "needs_background": "light"
          }
        }
      ]
    },
    {
      "cell_type": "code",
      "source": [
        "plt.plot(np.arange(10), loss_train_sigmoid_conv5)\n",
        "plt.title('Evolution of the loss over epochs')\n",
        "plt.xlabel('Epoch')\n",
        "plt.ylabel('Loss')\n",
        "plt.show()"
      ],
      "metadata": {
        "colab": {
          "base_uri": "https://localhost:8080/",
          "height": 295
        },
        "id": "_kcOpxWw2Glv",
        "outputId": "6de83447-7275-4972-fb1b-13f9c29ca347"
      },
      "id": "_kcOpxWw2Glv",
      "execution_count": null,
      "outputs": [
        {
          "output_type": "display_data",
          "data": {
            "text/plain": [
              "<Figure size 432x288 with 1 Axes>"
            ],
            "image/png": "[encoded data removed]"
          },
          "metadata": {
            "needs_background": "light"
          }
        }
      ]
    },
    {
      "cell_type": "markdown",
      "source": [
        "#N = 10\n",
        "Now we're going to try it with 10 blocks"
      ],
      "metadata": {
        "id": "73hkSstvgEYP"
      },
      "id": "73hkSstvgEYP"
    },
    {
      "cell_type": "code",
      "source": [
        "loss = nn.NLLLoss()\n",
        "model = CNNResNet(n_blocks = 10)\n",
        "model = model.cuda()\n",
        "optimizer=th.optim.Adam(model.parameters(),lr=0.0001)"
      ],
      "metadata": {
        "id": "DMEsRKR62lap"
      },
      "id": "DMEsRKR62lap",
      "execution_count": null,
      "outputs": []
    },
    {
      "cell_type": "code",
      "source": [
        "loss_train_sigmoid_conv10, loss_val_sigmoid_conv10, accuracy_sigmoid_conv10, softmax_conv10 = train(model, optimizer, loss, trainloader, testloader, epochs = 30, verbose=True)"
      ],
      "metadata": {
        "colab": {
          "base_uri": "https://localhost:8080/"
        },
        "id": "bX66a_4CgLWC",
        "outputId": "28d5154f-3acb-4a0e-e0c6-1d0428547d70"
      },
      "id": "bX66a_4CgLWC",
      "execution_count": null,
      "outputs": [
        {
          "output_type": "stream",
          "name": "stdout",
          "text": [
            "Epoch: 0\tTrain loss: 2.9191797602176695\tAccuracy validation: 26.329999923706055\n",
            "Epoch: 1\tTrain loss: 1.8499495190382005\tAccuracy validation: 26.5\n",
            "Epoch: 2\tTrain loss: 1.4702158793807034\tAccuracy validation: 27.68000030517578\n",
            "Epoch: 3\tTrain loss: 1.2320612403750422\tAccuracy validation: 28.079999923706055\n",
            "Epoch: 4\tTrain loss: 1.059237667322159\tAccuracy validation: 27.989999771118164\n",
            "Epoch: 5\tTrain loss: 0.913309940993786\tAccuracy validation: 28.219999313354492\n",
            "Epoch: 6\tTrain loss: 0.799351951926947\tAccuracy validation: 29.84000015258789\n",
            "Epoch: 7\tTrain loss: 0.7066214035451414\tAccuracy validation: 28.149999618530273\n",
            "Epoch: 8\tTrain loss: 0.6208650201559066\tAccuracy validation: 27.469999313354492\n",
            "Epoch: 9\tTrain loss: 0.5490149675309663\tAccuracy validation: 29.44999885559082\n",
            "Epoch: 10\tTrain loss: 0.48650386109948174\tAccuracy validation: 28.989999771118164\n",
            "Epoch: 11\tTrain loss: 0.4296271245926621\tAccuracy validation: 28.389999389648438\n",
            "Epoch: 12\tTrain loss: 0.3882712026685477\tAccuracy validation: 28.799999237060547\n",
            "Epoch: 13\tTrain loss: 0.3482286031544205\tAccuracy validation: 27.69999885559082\n",
            "Epoch: 14\tTrain loss: 0.31350383520126335\tAccuracy validation: 29.459999084472656\n",
            "Epoch: 15\tTrain loss: 0.27233941674232504\tAccuracy validation: 29.09000015258789\n",
            "Epoch: 16\tTrain loss: 0.24841639339923854\tAccuracy validation: 28.599998474121094\n",
            "Epoch: 17\tTrain loss: 0.2232718412950637\tAccuracy validation: 28.56999969482422\n",
            "Epoch: 18\tTrain loss: 0.2013706113398076\tAccuracy validation: 27.81999969482422\n",
            "Epoch: 19\tTrain loss: 0.18787072181701667\tAccuracy validation: 28.529998779296875\n",
            "Epoch: 20\tTrain loss: 0.17455704953521484\tAccuracy validation: 28.420000076293945\n",
            "Epoch: 21\tTrain loss: 0.15150311984121806\tAccuracy validation: 28.559999465942383\n",
            "Epoch: 22\tTrain loss: 0.14172610161826002\tAccuracy validation: 28.939998626708984\n",
            "Epoch: 23\tTrain loss: 0.12841420620679855\tAccuracy validation: 28.809999465942383\n",
            "Epoch: 24\tTrain loss: 0.12326689943671229\tAccuracy validation: 28.279998779296875\n",
            "Epoch: 25\tTrain loss: 0.11424762332811954\tAccuracy validation: 28.40999984741211\n",
            "Epoch: 26\tTrain loss: 0.10930053716525436\tAccuracy validation: 29.479999542236328\n",
            "Epoch: 27\tTrain loss: 0.1062620442174375\tAccuracy validation: 29.329999923706055\n",
            "Epoch: 28\tTrain loss: 0.09573794858530163\tAccuracy validation: 28.260000228881836\n",
            "Epoch: 29\tTrain loss: 0.09227625103667376\tAccuracy validation: 27.94999885559082\n"
          ]
        }
      ]
    },
    {
      "cell_type": "code",
      "source": [
        "print(max(accuracy_sigmoid_conv10), accuracy_sigmoid_conv10[-1])"
      ],
      "metadata": {
        "colab": {
          "base_uri": "https://localhost:8080/"
        },
        "id": "veFlCBqDgTpG",
        "outputId": "42518824-1dec-4f3b-9f2f-f751d3262fa0"
      },
      "id": "veFlCBqDgTpG",
      "execution_count": null,
      "outputs": [
        {
          "output_type": "stream",
          "name": "stdout",
          "text": [
            "tensor(42.6800, device='cuda:0') tensor(42.6800, device='cuda:0')\n"
          ]
        }
      ]
    },
    {
      "cell_type": "code",
      "source": [
        "plt.plot(np.arange(10), th.tensor(accuracy_sigmoid_conv10))\n",
        "plt.title('Evolution of the accuracy over epochs')\n",
        "plt.xlabel('Epoch')\n",
        "plt.ylabel('Accuracy')\n",
        "plt.show()"
      ],
      "metadata": {
        "colab": {
          "base_uri": "https://localhost:8080/",
          "height": 295
        },
        "id": "mr3_2j3sutIf",
        "outputId": "e2f88f79-3548-48aa-fcca-e2de2eca3da2"
      },
      "id": "mr3_2j3sutIf",
      "execution_count": null,
      "outputs": [
        {
          "output_type": "display_data",
          "data": {
            "text/plain": [
              "<Figure size 432x288 with 1 Axes>"
            ],
            "image/png": "[encoded data removed]"
          },
          "metadata": {
            "needs_background": "light"
          }
        }
      ]
    },
    {
      "cell_type": "code",
      "source": [
        "plt.plot(np.arange(10), loss_train_sigmoid_conv10)\n",
        "plt.title('Evolution of the loss over epochs')\n",
        "plt.xlabel('Epoch')\n",
        "plt.ylabel('Loss')\n",
        "plt.show()"
      ],
      "metadata": {
        "colab": {
          "base_uri": "https://localhost:8080/",
          "height": 295
        },
        "id": "tZJDfMmuuuli",
        "outputId": "911700f9-1dbe-44b4-9954-82e57ee79a47"
      },
      "id": "tZJDfMmuuuli",
      "execution_count": null,
      "outputs": [
        {
          "output_type": "display_data",
          "data": {
            "text/plain": [
              "<Figure size 432x288 with 1 Axes>"
            ],
            "image/png": "[encoded data removed]"
          },
          "metadata": {
            "needs_background": "light"
          }
        }
      ]
    },
    {
      "cell_type": "markdown",
      "source": [
        "#N = 20\n",
        "Now we are trying a ResNET with 20 residual blocks"
      ],
      "metadata": {
        "id": "3OY8rjNtu3Aj"
      },
      "id": "3OY8rjNtu3Aj"
    },
    {
      "cell_type": "code",
      "source": [
        "loss = nn.NLLLoss()\n",
        "model = CNNResNet(n_blocks = 20)\n",
        "model = model.cuda()\n",
        "optimizer=th.optim.Adam(model.parameters(),lr=0.0001)"
      ],
      "metadata": {
        "id": "1BX2GzqNu2PG"
      },
      "id": "1BX2GzqNu2PG",
      "execution_count": null,
      "outputs": []
    },
    {
      "cell_type": "code",
      "source": [
        "loss_train_sigmoid_conv20, loss_val_sigmoid_conv20, accuracy_sigmoid_conv20, softmax_conv20 = train(model, optimizer, loss, trainloader, testloader, epochs = 10, verbose=True)"
      ],
      "metadata": {
        "colab": {
          "base_uri": "https://localhost:8080/"
        },
        "id": "nZrnoBU9vA0W",
        "outputId": "d4f74bf3-4ceb-455f-b658-b77850d8eda1"
      },
      "id": "nZrnoBU9vA0W",
      "execution_count": null,
      "outputs": [
        {
          "output_type": "stream",
          "name": "stdout",
          "text": [
            "Epoch: 0\tTrain loss: 56.47377371788025\tAccuracy validation: 9.649999618530273\n",
            "Epoch: 1\tTrain loss: 51.34479796886444\tAccuracy validation: 15.389999389648438\n",
            "Epoch: 2\tTrain loss: 48.73628807067871\tAccuracy validation: 19.389999389648438\n",
            "Epoch: 3\tTrain loss: 46.89328610897064\tAccuracy validation: 21.40999984741211\n",
            "Epoch: 4\tTrain loss: 45.43682944774628\tAccuracy validation: 23.19999885559082\n",
            "Epoch: 5\tTrain loss: 44.310805678367615\tAccuracy validation: 22.739999771118164\n",
            "Epoch: 6\tTrain loss: 43.12908339500427\tAccuracy validation: 22.90999984741211\n",
            "Epoch: 7\tTrain loss: 42.36884951591492\tAccuracy validation: 23.53999900817871\n",
            "Epoch: 8\tTrain loss: 41.48024272918701\tAccuracy validation: 22.6299991607666\n",
            "Epoch: 9\tTrain loss: 40.775006890296936\tAccuracy validation: 23.78999900817871\n"
          ]
        }
      ]
    },
    {
      "cell_type": "code",
      "source": [
        "print(max(accuracy_sigmoid_conv20), accuracy_sigmoid_conv20[-1])"
      ],
      "metadata": {
        "colab": {
          "base_uri": "https://localhost:8080/"
        },
        "id": "j17X_VttvIkV",
        "outputId": "caa9f5c8-2819-4a6d-8fec-33a6f18261c7"
      },
      "id": "j17X_VttvIkV",
      "execution_count": null,
      "outputs": [
        {
          "output_type": "stream",
          "name": "stdout",
          "text": [
            "tensor(23.7900, device='cuda:0') tensor(23.7900, device='cuda:0')\n"
          ]
        }
      ]
    },
    {
      "cell_type": "code",
      "source": [
        "plt.plot(np.arange(10), th.tensor(accuracy_sigmoid_conv20))\n",
        "plt.title('Evolution of the accuracy over epochs')\n",
        "plt.xlabel('Epoch')\n",
        "plt.ylabel('Accuracy')\n",
        "plt.show()"
      ],
      "metadata": {
        "colab": {
          "base_uri": "https://localhost:8080/",
          "height": 295
        },
        "id": "cmldLDsGvKhK",
        "outputId": "a41ac905-a447-4f1e-9654-23d8db658e7d"
      },
      "id": "cmldLDsGvKhK",
      "execution_count": null,
      "outputs": [
        {
          "output_type": "display_data",
          "data": {
            "text/plain": [
              "<Figure size 432x288 with 1 Axes>"
            ],
            "image/png": "[encoded data removed]"
          },
          "metadata": {
            "needs_background": "light"
          }
        }
      ]
    },
    {
      "cell_type": "code",
      "source": [
        "plt.plot(np.arange(10), loss_train_sigmoid_conv20)\n",
        "plt.title('Evolution of the loss over epochs')\n",
        "plt.xlabel('Epoch')\n",
        "plt.ylabel('Loss')\n",
        "plt.show()"
      ],
      "metadata": {
        "colab": {
          "base_uri": "https://localhost:8080/",
          "height": 295
        },
        "id": "KSB-6ULGvMJu",
        "outputId": "b24a362c-88aa-4ab8-88b6-aff7a9cafd0e"
      },
      "id": "KSB-6ULGvMJu",
      "execution_count": null,
      "outputs": [
        {
          "output_type": "display_data",
          "data": {
            "text/plain": [
              "<Figure size 432x288 with 1 Axes>"
            ],
            "image/png": "[encoded data removed]"
          },
          "metadata": {
            "needs_background": "light"
          }
        }
      ]
    },
    {
      "cell_type": "markdown",
      "source": [
        "#Extra: State-of-the-art performance\n",
        "Let's implement a simple ResNET, with only two blocks, but changing the output channels size, to obtain state of the art performance.\n",
        "Knowing that the output channels represents the numbers of convolutions filters we are going to have, higher output channels implies in higher efficiency. However, it also results in longer training times. So, for that reason, we are only going to use 5 epochs.\n",
        "\n",
        "References: https://medium.com/swlh/natural-image-classification-using-resnet9-model-6f9dc924cd6d"
      ],
      "metadata": {
        "id": "UNg-dwMPxlKw"
      },
      "id": "UNg-dwMPxlKw"
    },
    {
      "cell_type": "code",
      "source": [
        "def conv_block(in_channels, out_channels, pool=False):\n",
        "    #Here we create it as a list to be apple to append the MaxPool when it needed\n",
        "    layers = [nn.Conv2d(in_channels, out_channels, kernel_size=3, padding=1), \n",
        "              nn.BatchNorm2d(out_channels), \n",
        "              nn.ReLU(inplace=True)]\n",
        "    if pool: layers.append(nn.MaxPool2d(2))\n",
        "    return nn.Sequential(*layers)\n",
        "\n",
        "#We will implement a ResNET with 9 convolutional layers\n",
        "class ResNet9(nn.Module):\n",
        "    def __init__(self, in_channels):\n",
        "        super(ResNet9, self).__init__()\n",
        "        \n",
        "        self.conv1 = conv_block(in_channels, 64)\n",
        "        self.conv2 = conv_block(64, 128, pool=True)\n",
        "        self.res1 = nn.Sequential(\n",
        "            conv_block(128, 128), \n",
        "            conv_block(128, 128)\n",
        "        )\n",
        "        \n",
        "        self.conv3 = conv_block(128, 256, pool=True)\n",
        "        self.conv4 = conv_block(256, 512, pool=True)\n",
        "        self.res2 = nn.Sequential(\n",
        "            conv_block(512, 512), \n",
        "            conv_block(512, 512)\n",
        "        )\n",
        "        \n",
        "        self.linear = nn.Sequential(nn.MaxPool2d(4), \n",
        "                                        nn.Flatten(), \n",
        "                                        nn.Linear(512, 10))\n",
        "        \n",
        "    def forward(self, xb):\n",
        "        out = self.conv1(xb)\n",
        "        out = self.conv2(out)\n",
        "        out = self.res1(out) + out\n",
        "        out = self.conv3(out)\n",
        "        out = self.conv4(out)\n",
        "        out = self.res2(out) + out\n",
        "        out = self.linear(out)\n",
        "        return out"
      ],
      "metadata": {
        "id": "oRZ4zjuEyBv8"
      },
      "id": "oRZ4zjuEyBv8",
      "execution_count": null,
      "outputs": []
    },
    {
      "cell_type": "code",
      "source": [
        "loss = nn.NLLLoss()\n",
        "model = ResNet9(3)\n",
        "model = model.cuda()\n",
        "optimizer=th.optim.Adam(model.parameters(),lr=0.0001)"
      ],
      "metadata": {
        "id": "zM8OtyQs0e3h"
      },
      "id": "zM8OtyQs0e3h",
      "execution_count": null,
      "outputs": []
    },
    {
      "cell_type": "code",
      "source": [
        "loss_train_sigmoid_resnet9, loss_val_sigmoid_resnet9, accuracy_sigmoid_resnet9, softmax_resnet9 = train(model, optimizer, loss, trainloader, testloader, verbose=True)"
      ],
      "metadata": {
        "colab": {
          "base_uri": "https://localhost:8080/",
          "height": 398
        },
        "id": "1gIu5yti0nAk",
        "outputId": "50792045-53a7-406b-c675-a612c4288736"
      },
      "id": "1gIu5yti0nAk",
      "execution_count": null,
      "outputs": [
        {
          "output_type": "stream",
          "name": "stdout",
          "text": [
            "Epoch: 0\tTrain loss: -387353.1488440335\tAccuracy validation: 16.8799991607666\n",
            "Epoch: 1\tTrain loss: -1257614.449584961\tAccuracy validation: 17.75\n",
            "Epoch: 2\tTrain loss: -2284446.0703125\tAccuracy validation: 17.809999465942383\n"
          ]
        },
        {
          "output_type": "error",
          "ename": "KeyboardInterrupt",
          "evalue": "ignored",
          "traceback": [
            "\u001b[0;31m---------------------------------------------------------------------------\u001b[0m",
            "\u001b[0;31mKeyboardInterrupt\u001b[0m                         Traceback (most recent call last)",
            "\u001b[0;32m<ipython-input-7-427a1db996b9>\u001b[0m in \u001b[0;36m<module>\u001b[0;34m()\u001b[0m\n\u001b[0;32m----> 1\u001b[0;31m \u001b[0mloss_train_sigmoid_resnet9\u001b[0m\u001b[0;34m,\u001b[0m \u001b[0mloss_val_sigmoid_resnet9\u001b[0m\u001b[0;34m,\u001b[0m \u001b[0maccuracy_sigmoid_resnet9\u001b[0m\u001b[0;34m,\u001b[0m \u001b[0msoftmax_resnet9\u001b[0m \u001b[0;34m=\u001b[0m \u001b[0mtrain\u001b[0m\u001b[0;34m(\u001b[0m\u001b[0mmodel\u001b[0m\u001b[0;34m,\u001b[0m \u001b[0moptimizer\u001b[0m\u001b[0;34m,\u001b[0m \u001b[0mloss\u001b[0m\u001b[0;34m,\u001b[0m \u001b[0mtrainloader\u001b[0m\u001b[0;34m,\u001b[0m \u001b[0mtestloader\u001b[0m\u001b[0;34m,\u001b[0m \u001b[0mverbose\u001b[0m\u001b[0;34m=\u001b[0m\u001b[0;32mTrue\u001b[0m\u001b[0;34m)\u001b[0m\u001b[0;34m\u001b[0m\u001b[0;34m\u001b[0m\u001b[0m\n\u001b[0m",
            "\u001b[0;32m<ipython-input-4-90ee4036a2e4>\u001b[0m in \u001b[0;36mtrain\u001b[0;34m(model, optimizer, loss_fn, trainloader, valloader, epochs, verbose)\u001b[0m\n\u001b[1;32m     26\u001b[0m         \u001b[0moptimizer\u001b[0m\u001b[0;34m.\u001b[0m\u001b[0mzero_grad\u001b[0m\u001b[0;34m(\u001b[0m\u001b[0;34m)\u001b[0m \u001b[0;31m#Set all gradients to zero (not cumulative)\u001b[0m\u001b[0;34m\u001b[0m\u001b[0;34m\u001b[0m\u001b[0m\n\u001b[1;32m     27\u001b[0m         \u001b[0mloss_t\u001b[0m\u001b[0;34m.\u001b[0m\u001b[0mbackward\u001b[0m\u001b[0;34m(\u001b[0m\u001b[0;34m)\u001b[0m \u001b[0;31m#Propagate the error (back propagation)\u001b[0m\u001b[0;34m\u001b[0m\u001b[0;34m\u001b[0m\u001b[0m\n\u001b[0;32m---> 28\u001b[0;31m         \u001b[0moptimizer\u001b[0m\u001b[0;34m.\u001b[0m\u001b[0mstep\u001b[0m\u001b[0;34m(\u001b[0m\u001b[0;34m)\u001b[0m \u001b[0;31m#Update the Ws\u001b[0m\u001b[0;34m\u001b[0m\u001b[0;34m\u001b[0m\u001b[0m\n\u001b[0m\u001b[1;32m     29\u001b[0m \u001b[0;34m\u001b[0m\u001b[0m\n\u001b[1;32m     30\u001b[0m         \u001b[0mth\u001b[0m\u001b[0;34m.\u001b[0m\u001b[0mcuda\u001b[0m\u001b[0;34m.\u001b[0m\u001b[0mempty_cache\u001b[0m\u001b[0;34m(\u001b[0m\u001b[0;34m)\u001b[0m\u001b[0;34m\u001b[0m\u001b[0;34m\u001b[0m\u001b[0m\n",
            "\u001b[0;32m/usr/local/lib/python3.7/dist-packages/torch/optim/optimizer.py\u001b[0m in \u001b[0;36mwrapper\u001b[0;34m(*args, **kwargs)\u001b[0m\n\u001b[1;32m     86\u001b[0m                 \u001b[0mprofile_name\u001b[0m \u001b[0;34m=\u001b[0m \u001b[0;34m\"Optimizer.step#{}.step\"\u001b[0m\u001b[0;34m.\u001b[0m\u001b[0mformat\u001b[0m\u001b[0;34m(\u001b[0m\u001b[0mobj\u001b[0m\u001b[0;34m.\u001b[0m\u001b[0m__class__\u001b[0m\u001b[0;34m.\u001b[0m\u001b[0m__name__\u001b[0m\u001b[0;34m)\u001b[0m\u001b[0;34m\u001b[0m\u001b[0;34m\u001b[0m\u001b[0m\n\u001b[1;32m     87\u001b[0m                 \u001b[0;32mwith\u001b[0m \u001b[0mtorch\u001b[0m\u001b[0;34m.\u001b[0m\u001b[0mautograd\u001b[0m\u001b[0;34m.\u001b[0m\u001b[0mprofiler\u001b[0m\u001b[0;34m.\u001b[0m\u001b[0mrecord_function\u001b[0m\u001b[0;34m(\u001b[0m\u001b[0mprofile_name\u001b[0m\u001b[0;34m)\u001b[0m\u001b[0;34m:\u001b[0m\u001b[0;34m\u001b[0m\u001b[0;34m\u001b[0m\u001b[0m\n\u001b[0;32m---> 88\u001b[0;31m                     \u001b[0;32mreturn\u001b[0m \u001b[0mfunc\u001b[0m\u001b[0;34m(\u001b[0m\u001b[0;34m*\u001b[0m\u001b[0margs\u001b[0m\u001b[0;34m,\u001b[0m \u001b[0;34m**\u001b[0m\u001b[0mkwargs\u001b[0m\u001b[0;34m)\u001b[0m\u001b[0;34m\u001b[0m\u001b[0;34m\u001b[0m\u001b[0m\n\u001b[0m\u001b[1;32m     89\u001b[0m             \u001b[0;32mreturn\u001b[0m \u001b[0mwrapper\u001b[0m\u001b[0;34m\u001b[0m\u001b[0;34m\u001b[0m\u001b[0m\n\u001b[1;32m     90\u001b[0m \u001b[0;34m\u001b[0m\u001b[0m\n",
            "\u001b[0;32m/usr/local/lib/python3.7/dist-packages/torch/autograd/grad_mode.py\u001b[0m in \u001b[0;36mdecorate_context\u001b[0;34m(*args, **kwargs)\u001b[0m\n\u001b[1;32m     25\u001b[0m         \u001b[0;32mdef\u001b[0m \u001b[0mdecorate_context\u001b[0m\u001b[0;34m(\u001b[0m\u001b[0;34m*\u001b[0m\u001b[0margs\u001b[0m\u001b[0;34m,\u001b[0m \u001b[0;34m**\u001b[0m\u001b[0mkwargs\u001b[0m\u001b[0;34m)\u001b[0m\u001b[0;34m:\u001b[0m\u001b[0;34m\u001b[0m\u001b[0;34m\u001b[0m\u001b[0m\n\u001b[1;32m     26\u001b[0m             \u001b[0;32mwith\u001b[0m \u001b[0mself\u001b[0m\u001b[0;34m.\u001b[0m\u001b[0mclone\u001b[0m\u001b[0;34m(\u001b[0m\u001b[0;34m)\u001b[0m\u001b[0;34m:\u001b[0m\u001b[0;34m\u001b[0m\u001b[0;34m\u001b[0m\u001b[0m\n\u001b[0;32m---> 27\u001b[0;31m                 \u001b[0;32mreturn\u001b[0m \u001b[0mfunc\u001b[0m\u001b[0;34m(\u001b[0m\u001b[0;34m*\u001b[0m\u001b[0margs\u001b[0m\u001b[0;34m,\u001b[0m \u001b[0;34m**\u001b[0m\u001b[0mkwargs\u001b[0m\u001b[0;34m)\u001b[0m\u001b[0;34m\u001b[0m\u001b[0;34m\u001b[0m\u001b[0m\n\u001b[0m\u001b[1;32m     28\u001b[0m         \u001b[0;32mreturn\u001b[0m \u001b[0mcast\u001b[0m\u001b[0;34m(\u001b[0m\u001b[0mF\u001b[0m\u001b[0;34m,\u001b[0m \u001b[0mdecorate_context\u001b[0m\u001b[0;34m)\u001b[0m\u001b[0;34m\u001b[0m\u001b[0;34m\u001b[0m\u001b[0m\n\u001b[1;32m     29\u001b[0m \u001b[0;34m\u001b[0m\u001b[0m\n",
            "\u001b[0;32m/usr/local/lib/python3.7/dist-packages/torch/optim/adam.py\u001b[0m in \u001b[0;36mstep\u001b[0;34m(self, closure)\u001b[0m\n\u001b[1;32m    151\u001b[0m                    \u001b[0mweight_decay\u001b[0m\u001b[0;34m=\u001b[0m\u001b[0mgroup\u001b[0m\u001b[0;34m[\u001b[0m\u001b[0;34m'weight_decay'\u001b[0m\u001b[0;34m]\u001b[0m\u001b[0;34m,\u001b[0m\u001b[0;34m\u001b[0m\u001b[0;34m\u001b[0m\u001b[0m\n\u001b[1;32m    152\u001b[0m                    \u001b[0meps\u001b[0m\u001b[0;34m=\u001b[0m\u001b[0mgroup\u001b[0m\u001b[0;34m[\u001b[0m\u001b[0;34m'eps'\u001b[0m\u001b[0;34m]\u001b[0m\u001b[0;34m,\u001b[0m\u001b[0;34m\u001b[0m\u001b[0;34m\u001b[0m\u001b[0m\n\u001b[0;32m--> 153\u001b[0;31m                    maximize=group['maximize'])\n\u001b[0m\u001b[1;32m    154\u001b[0m         \u001b[0;32mreturn\u001b[0m \u001b[0mloss\u001b[0m\u001b[0;34m\u001b[0m\u001b[0;34m\u001b[0m\u001b[0m\n",
            "\u001b[0;32m/usr/local/lib/python3.7/dist-packages/torch/optim/_functional.py\u001b[0m in \u001b[0;36madam\u001b[0;34m(params, grads, exp_avgs, exp_avg_sqs, max_exp_avg_sqs, state_steps, amsgrad, beta1, beta2, lr, weight_decay, eps, maximize)\u001b[0m\n\u001b[1;32m     88\u001b[0m         \u001b[0mstep\u001b[0m \u001b[0;34m=\u001b[0m \u001b[0mstate_steps\u001b[0m\u001b[0;34m[\u001b[0m\u001b[0mi\u001b[0m\u001b[0;34m]\u001b[0m\u001b[0;34m\u001b[0m\u001b[0;34m\u001b[0m\u001b[0m\n\u001b[1;32m     89\u001b[0m \u001b[0;34m\u001b[0m\u001b[0m\n\u001b[0;32m---> 90\u001b[0;31m         \u001b[0mbias_correction1\u001b[0m \u001b[0;34m=\u001b[0m \u001b[0;36m1\u001b[0m \u001b[0;34m-\u001b[0m \u001b[0mbeta1\u001b[0m \u001b[0;34m**\u001b[0m \u001b[0mstep\u001b[0m\u001b[0;34m\u001b[0m\u001b[0;34m\u001b[0m\u001b[0m\n\u001b[0m\u001b[1;32m     91\u001b[0m         \u001b[0mbias_correction2\u001b[0m \u001b[0;34m=\u001b[0m \u001b[0;36m1\u001b[0m \u001b[0;34m-\u001b[0m \u001b[0mbeta2\u001b[0m \u001b[0;34m**\u001b[0m \u001b[0mstep\u001b[0m\u001b[0;34m\u001b[0m\u001b[0;34m\u001b[0m\u001b[0m\n\u001b[1;32m     92\u001b[0m \u001b[0;34m\u001b[0m\u001b[0m\n",
            "\u001b[0;31mKeyboardInterrupt\u001b[0m: "
          ]
        }
      ]
    },
    {
      "cell_type": "code",
      "source": [
        "print(max(accuracy_sigmoid_resnet9), accuracy_sigmoid_resnet9[-1])"
      ],
      "metadata": {
        "id": "-S0Da78F0scW"
      },
      "id": "-S0Da78F0scW",
      "execution_count": null,
      "outputs": []
    },
    {
      "cell_type": "code",
      "source": [
        "plt.plot(np.arange(30), th.tensor(accuracy_sigmoid_conv20))\n",
        "plt.title('Evolution of the accuracy over epochs')\n",
        "plt.xlabel('Epoch')\n",
        "plt.ylabel('Accuracy')\n",
        "plt.show()"
      ],
      "metadata": {
        "id": "OTr25rq_0zKv"
      },
      "id": "OTr25rq_0zKv",
      "execution_count": null,
      "outputs": []
    },
    {
      "cell_type": "code",
      "source": [
        "plt.plot(np.arange(30), loss_train_sigmoid_conv20)\n",
        "plt.title('Evolution of the loss over epochs')\n",
        "plt.xlabel('Epoch')\n",
        "plt.ylabel('Loss')\n",
        "plt.show()"
      ],
      "metadata": {
        "id": "olodZUDN01_t"
      },
      "id": "olodZUDN01_t",
      "execution_count": null,
      "outputs": []
    }
  ],
  "metadata": {
    "kernelspec": {
      "display_name": "Python 3",
      "language": "python",
      "name": "python3"
    },
    "language_info": {
      "codemirror_mode": {
        "name": "ipython",
        "version": 3
      },
      "file_extension": ".py",
      "mimetype": "text/x-python",
      "name": "python",
      "nbconvert_exporter": "python",
      "pygments_lexer": "ipython3",
      "version": "3.7.6"
    },
    "colab": {
      "name": "ResNet-CIFAR10-Maffei&Zuluaga.ipynb",
      "provenance": [],
      "collapsed_sections": [],
      "toc_visible": true
    },
    "accelerator": "GPU",
    "gpuClass": "standard"
  },
  "nbformat": 4,
  "nbformat_minor": 5
}